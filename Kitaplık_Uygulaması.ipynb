{
  "nbformat": 4,
  "nbformat_minor": 0,
  "metadata": {
    "colab": {
      "provenance": [],
      "toc_visible": true,
      "include_colab_link": true
    },
    "kernelspec": {
      "name": "python3",
      "display_name": "Python 3"
    },
    "language_info": {
      "name": "python"
    }
  },
  "cells": [
    {
      "cell_type": "markdown",
      "metadata": {
        "id": "view-in-github",
        "colab_type": "text"
      },
      "source": [
        "<a href=\"https://colab.research.google.com/github/aysgulkryl/Kitaplik-Uygulamasi/blob/main/Kitapl%C4%B1k_Uygulamas%C4%B1.ipynb\" target=\"_parent\"><img src=\"https://colab.research.google.com/assets/colab-badge.svg\" alt=\"Open In Colab\"/></a>"
      ]
    },
    {
      "cell_type": "code",
      "execution_count": 3,
      "metadata": {
        "id": "yfDPkAg2FrSW",
        "colab": {
          "base_uri": "https://localhost:8080/",
          "height": 876
        },
        "outputId": "d14b772a-39fe-4690-d4b1-d3b616c152a7"
      },
      "outputs": [
        {
          "output_type": "stream",
          "name": "stdout",
          "text": [
            "Kitaplık Uygulaması\n",
            "\n",
            "\n",
            "1. Kitap Ara\n",
            "2. Kitap Ekle\n",
            "3. Kitap Listele\n",
            "4. Çıkış\n",
            "\n",
            "\n",
            "Kitaplık uygulamasına hoşgeldiniz. Lütfen yapmak istediğiniz işlemi seçiniz (1,2,3,4): 3\n",
            "\n",
            "\n",
            "Kitap listeleme işlemi seçildi.\n",
            "\n",
            "\n",
            "Kitap Listesi\n",
            "\n",
            "\n",
            "1984 | George Orwell | Distopya | Can Yayınları | 2024\n",
            "\n",
            "\n",
            "Kitaplık Uygulaması\n",
            "\n",
            "\n",
            "1. Kitap Ara\n",
            "2. Kitap Ekle\n",
            "3. Kitap Listele\n",
            "4. Çıkış\n",
            "\n",
            "\n"
          ]
        },
        {
          "output_type": "error",
          "ename": "KeyboardInterrupt",
          "evalue": "Interrupted by user",
          "traceback": [
            "\u001b[0;31m---------------------------------------------------------------------------\u001b[0m",
            "\u001b[0;31mKeyboardInterrupt\u001b[0m                         Traceback (most recent call last)",
            "\u001b[0;32m/tmp/ipython-input-3075467057.py\u001b[0m in \u001b[0;36m<cell line: 0>\u001b[0;34m()\u001b[0m\n\u001b[1;32m     83\u001b[0m \u001b[0;32mwhile\u001b[0m \u001b[0;32mTrue\u001b[0m\u001b[0;34m:\u001b[0m\u001b[0;34m\u001b[0m\u001b[0;34m\u001b[0m\u001b[0m\n\u001b[1;32m     84\u001b[0m   \u001b[0mmenu_ac\u001b[0m\u001b[0;34m(\u001b[0m\u001b[0;34m)\u001b[0m\u001b[0;34m\u001b[0m\u001b[0;34m\u001b[0m\u001b[0m\n\u001b[0;32m---> 85\u001b[0;31m   \u001b[0msecim\u001b[0m \u001b[0;34m=\u001b[0m \u001b[0minput\u001b[0m\u001b[0;34m(\u001b[0m\u001b[0;34m\"Kitaplık uygulamasına hoşgeldiniz. Lütfen yapmak istediğiniz işlemi seçiniz (1,2,3,4): \"\u001b[0m\u001b[0;34m)\u001b[0m\u001b[0;34m\u001b[0m\u001b[0;34m\u001b[0m\u001b[0m\n\u001b[0m\u001b[1;32m     86\u001b[0m   \u001b[0mprint\u001b[0m\u001b[0;34m(\u001b[0m\u001b[0;34m\"\\n\"\u001b[0m\u001b[0;34m)\u001b[0m\u001b[0;34m\u001b[0m\u001b[0;34m\u001b[0m\u001b[0m\n\u001b[1;32m     87\u001b[0m \u001b[0;34m\u001b[0m\u001b[0m\n",
            "\u001b[0;32m/usr/local/lib/python3.12/dist-packages/ipykernel/kernelbase.py\u001b[0m in \u001b[0;36mraw_input\u001b[0;34m(self, prompt)\u001b[0m\n\u001b[1;32m   1175\u001b[0m                 \u001b[0;34m\"raw_input was called, but this frontend does not support input requests.\"\u001b[0m\u001b[0;34m\u001b[0m\u001b[0;34m\u001b[0m\u001b[0m\n\u001b[1;32m   1176\u001b[0m             )\n\u001b[0;32m-> 1177\u001b[0;31m         return self._input_request(\n\u001b[0m\u001b[1;32m   1178\u001b[0m             \u001b[0mstr\u001b[0m\u001b[0;34m(\u001b[0m\u001b[0mprompt\u001b[0m\u001b[0;34m)\u001b[0m\u001b[0;34m,\u001b[0m\u001b[0;34m\u001b[0m\u001b[0;34m\u001b[0m\u001b[0m\n\u001b[1;32m   1179\u001b[0m             \u001b[0mself\u001b[0m\u001b[0;34m.\u001b[0m\u001b[0m_parent_ident\u001b[0m\u001b[0;34m[\u001b[0m\u001b[0;34m\"shell\"\u001b[0m\u001b[0;34m]\u001b[0m\u001b[0;34m,\u001b[0m\u001b[0;34m\u001b[0m\u001b[0;34m\u001b[0m\u001b[0m\n",
            "\u001b[0;32m/usr/local/lib/python3.12/dist-packages/ipykernel/kernelbase.py\u001b[0m in \u001b[0;36m_input_request\u001b[0;34m(self, prompt, ident, parent, password)\u001b[0m\n\u001b[1;32m   1217\u001b[0m             \u001b[0;32mexcept\u001b[0m \u001b[0mKeyboardInterrupt\u001b[0m\u001b[0;34m:\u001b[0m\u001b[0;34m\u001b[0m\u001b[0;34m\u001b[0m\u001b[0m\n\u001b[1;32m   1218\u001b[0m                 \u001b[0;31m# re-raise KeyboardInterrupt, to truncate traceback\u001b[0m\u001b[0;34m\u001b[0m\u001b[0;34m\u001b[0m\u001b[0m\n\u001b[0;32m-> 1219\u001b[0;31m                 \u001b[0;32mraise\u001b[0m \u001b[0mKeyboardInterrupt\u001b[0m\u001b[0;34m(\u001b[0m\u001b[0;34m\"Interrupted by user\"\u001b[0m\u001b[0;34m)\u001b[0m \u001b[0;32mfrom\u001b[0m \u001b[0;32mNone\u001b[0m\u001b[0;34m\u001b[0m\u001b[0;34m\u001b[0m\u001b[0m\n\u001b[0m\u001b[1;32m   1220\u001b[0m             \u001b[0;32mexcept\u001b[0m \u001b[0mException\u001b[0m\u001b[0;34m:\u001b[0m\u001b[0;34m\u001b[0m\u001b[0;34m\u001b[0m\u001b[0m\n\u001b[1;32m   1221\u001b[0m                 \u001b[0mself\u001b[0m\u001b[0;34m.\u001b[0m\u001b[0mlog\u001b[0m\u001b[0;34m.\u001b[0m\u001b[0mwarning\u001b[0m\u001b[0;34m(\u001b[0m\u001b[0;34m\"Invalid Message:\"\u001b[0m\u001b[0;34m,\u001b[0m \u001b[0mexc_info\u001b[0m\u001b[0;34m=\u001b[0m\u001b[0;32mTrue\u001b[0m\u001b[0;34m)\u001b[0m\u001b[0;34m\u001b[0m\u001b[0;34m\u001b[0m\u001b[0m\n",
            "\u001b[0;31mKeyboardInterrupt\u001b[0m: Interrupted by user"
          ]
        }
      ],
      "source": [
        "\n",
        "# Menü oluşturma fonksiyonu\n",
        "\n",
        "def menu_ac():\n",
        "  print(\"Kitaplık Uygulaması\")\n",
        "  print(\"\\n\")\n",
        "  print(\"1. Kitap Ara\")\n",
        "  print(\"2. Kitap Ekle\")\n",
        "  print(\"3. Kitap Listele\")\n",
        "  print(\"4. Çıkış\")\n",
        "  print(\"\\n\")\n",
        "\n",
        "# Kitap arama fonksiyonu\n",
        "\n",
        "\n",
        "def kitap_ara():\n",
        "    arama = input(\"Aradığınız kitabın adını giriniz: \").strip().lower()\n",
        "    print(\"\\n\")\n",
        "\n",
        "    bulundu = False\n",
        "\n",
        "    try:\n",
        "        with open(\"kitaplar.txt\", \"r\", encoding=\"utf-8\") as dosya:\n",
        "            for satir in dosya:\n",
        "                kitap_adi_satir = satir.split(\"|\")[0].strip().lower()\n",
        "                if arama == kitap_adi_satir:\n",
        "                    bulundu = True\n",
        "                    print(\"Aradığınız kitap dosyada bulunmaktadır:\\n\")\n",
        "                    print(satir.strip())\n",
        "                    print(\"\\n\")\n",
        "                    break\n",
        "\n",
        "            if not bulundu:\n",
        "                print(\"Aradığınız kitap dosyada bulunmamaktadır.\\n\")\n",
        "\n",
        "    except FileNotFoundError:\n",
        "        print(\"Henüz kitap eklenmemiş. Dosya bulunamadı.\\n\")\n",
        "\n",
        "# Kitap ekleme fonksiyonu\n",
        "\n",
        "def kitap_ekle():\n",
        "  kitap_adi = input(\"Eklemek istediğiniz kitabın adını giriniz: \").strip()\n",
        "  print(\"\\n\")\n",
        "  yazar = input(\"Eklemek istediğiniz kitabın yazarını giriniz: \").strip()\n",
        "  print(\"\\n\")\n",
        "  tur = input(\"Eklemek istediğiniz kitabın türünü giriniz: \").strip()\n",
        "  print(\"\\n\")\n",
        "  yayin_evi = input(\"Eklemek istediğiniz kitabın yayınevini giriniz: \").strip()\n",
        "  print(\"\\n\")\n",
        "  basim_yili =input(\"Eklemek istediğiniz kitabın basım yılını giriniz: \").strip()\n",
        "  print(\"\\n\")\n",
        "\n",
        "  yeni_kayit = f\"{kitap_adi} | {yazar} | {tur} | {yayin_evi} | {basim_yili}\"\n",
        "  print(\"\\n\")\n",
        "\n",
        "  with open (\"kitaplar.txt\", \"a\", encoding=\"utf-8\") as dosya:\n",
        "    dosya.write(yeni_kayit + \"\\n\")\n",
        "\n",
        "  print(\"Yeni kitap kaydı eklendi. \\n\")\n",
        "\n",
        "# Kitap listeleme fonksiyonu\n",
        "\n",
        "def kitap_listele():\n",
        "  print(\"Kitap Listesi\")\n",
        "  print(\"\\n\")\n",
        "\n",
        "  try:\n",
        "    with open(\"kitaplar.txt\", \"r\", encoding=\"utf-8\") as dosya:\n",
        "      kitaplar = dosya.readlines()\n",
        "      if not kitaplar:\n",
        "        print(\"Henüz kitap eklenmemiş.\\n\")\n",
        "      else:\n",
        "       for satir in kitaplar:\n",
        "        print(satir.strip())\n",
        "        print(\"\\n\")\n",
        "\n",
        "  except FileNotFoundError:\n",
        "    print(\" Kitaplar dosyasında kayıt bulunamadı. Lütfen önce kitap ekleyin.\")\n",
        "    print(\"\\n\")\n",
        "\n",
        "\n",
        "# Menü oluşturma\n",
        "\n",
        "while True:\n",
        "  menu_ac()\n",
        "  secim = input(\"Kitaplık uygulamasına hoşgeldiniz. Lütfen yapmak istediğiniz işlemi seçiniz (1,2,3,4): \")\n",
        "  print(\"\\n\")\n",
        "\n",
        "  if secim == \"1\":\n",
        "    print(\"Kitap arama işlemi seçildi.\")\n",
        "    print(\"\\n\")\n",
        "    kitap_ara()\n",
        "\n",
        "\n",
        "  elif secim == \"2\":\n",
        "   print(\"Kitap ekleme işlemi seçildi.\")\n",
        "   print(\"\\n\")\n",
        "   kitap_ekle()\n",
        "\n",
        "\n",
        "  elif secim == \"3\":\n",
        "   print(\"Kitap listeleme işlemi seçildi.\")\n",
        "   print(\"\\n\")\n",
        "   kitap_listele()\n",
        "\n",
        "  elif secim == \"4\":\n",
        "   print(\"Çıkış işlemi seçildi. Program sonlandırılıyor...\")\n",
        "   break\n",
        "\n",
        "  else:\n",
        "   print(\"Geçersiz seçim yaptınız. Yapmak istediğiniz işleme göre 1-4 arasında bir sayı seçiniz.\" )\n",
        "   print(\"\\n\")\n",
        "\n"
      ]
    },
    {
      "cell_type": "code",
      "source": [
        "from google.colab import drive\n",
        "drive.mount('/content/drive')"
      ],
      "metadata": {
        "colab": {
          "base_uri": "https://localhost:8080/"
        },
        "id": "egL3AA-tW-qb",
        "outputId": "52a90632-b37e-4eb3-ede3-8c2d7b1a21e7"
      },
      "execution_count": null,
      "outputs": [
        {
          "output_type": "stream",
          "name": "stdout",
          "text": [
            "Mounted at /content/drive\n"
          ]
        }
      ]
    }
  ]
}
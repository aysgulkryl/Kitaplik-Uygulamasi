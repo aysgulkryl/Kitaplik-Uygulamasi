{
  "nbformat": 4,
  "nbformat_minor": 0,
  "metadata": {
    "colab": {
      "provenance": [],
      "toc_visible": true,
      "include_colab_link": true
    },
    "kernelspec": {
      "name": "python3",
      "display_name": "Python 3"
    },
    "language_info": {
      "name": "python"
    }
  },
  "cells": [
    {
      "cell_type": "markdown",
      "metadata": {
        "id": "view-in-github",
        "colab_type": "text"
      },
      "source": [
        "<a href=\"https://colab.research.google.com/github/aysgulkryl/Kitaplik-Uygulamasi/blob/main/Kitapl%C4%B1k_Uygulamas%C4%B1.ipynb\" target=\"_parent\"><img src=\"https://colab.research.google.com/assets/colab-badge.svg\" alt=\"Open In Colab\"/></a>"
      ]
    },
    {
      "cell_type": "code",
      "execution_count": null,
      "metadata": {
        "id": "yfDPkAg2FrSW"
      },
      "outputs": [],
      "source": [
        "\n",
        "# Menü oluşturma fonksiyonu\n",
        "\n",
        "def menu_ac():\n",
        "  print(\"Kitaplık Uygulaması\")\n",
        "  print(\"\\n\")\n",
        "  print(\"1. Kitap Ara\")\n",
        "  print(\"2. Kitap Ekle\")\n",
        "  print(\"3. Kitap Listele\")\n",
        "  print(\"4. Çıkış\")\n",
        "  print(\"\\n\")\n",
        "\n",
        "# Kitap arama fonksiyonu\n",
        "\n",
        "\n",
        "def kitap_ara():\n",
        "    arama = input(\"Aradığınız kitabın adını giriniz: \").strip().lower()\n",
        "    print(\"\\n\")\n",
        "\n",
        "    bulundu = False\n",
        "\n",
        "    try:\n",
        "        with open(\"kitaplar.txt\", \"r\", encoding=\"utf-8\") as dosya:\n",
        "            for satir in dosya:\n",
        "                kitap_adi_satir = satir.split(\"|\")[0].strip().lower()\n",
        "                if arama == kitap_adi_satir:\n",
        "                    bulundu = True\n",
        "                    print(\"Aradığınız kitap dosyada bulunmaktadır:\\n\")\n",
        "                    print(satir.strip())\n",
        "                    print(\"\\n\")\n",
        "                    break\n",
        "\n",
        "            if not bulundu:\n",
        "                print(\"Aradığınız kitap dosyada bulunmamaktadır.\\n\")\n",
        "\n",
        "    except FileNotFoundError:\n",
        "        print(\"Henüz kitap eklenmemiş. Dosya bulunamadı.\\n\")\n",
        "\n",
        "# Kitap ekleme fonksiyonu\n",
        "\n",
        "def kitap_ekle():\n",
        "  kitap_adi = input(\"Eklemek istediğiniz kitabın adını giriniz: \").strip()\n",
        "  print(\"\\n\")\n",
        "  yazar = input(\"Eklemek istediğiniz kitabın yazarını giriniz: \").strip()\n",
        "  print(\"\\n\")\n",
        "  tur = input(\"Eklemek istediğiniz kitabın türünü giriniz: \").strip()\n",
        "  print(\"\\n\")\n",
        "  yayin_evi = input(\"Eklemek istediğiniz kitabın yayınevini giriniz: \").strip()\n",
        "  print(\"\\n\")\n",
        "  basim_yili =input(\"Eklemek istediğiniz kitabın basım yılını giriniz: \").strip()\n",
        "  print(\"\\n\")\n",
        "\n",
        "  yeni_kayit = f\"{kitap_adi} | {yazar} | {tur} | {yayin_evi} | {basim_yili}\"\n",
        "  print(\"\\n\")\n",
        "\n",
        "  with open (\"kitaplar.txt\", \"a\", encoding=\"utf-8\") as dosya:\n",
        "    dosya.write(yeni_kayit + \"\\n\")\n",
        "\n",
        "  print(\"Yeni kitap kaydı eklendi. \\n\")\n",
        "\n",
        "# Kitap listeleme fonksiyonu\n",
        "\n",
        "def kitap_listele():\n",
        "  print(\"Kitap Listesi\")\n",
        "  print(\"\\n\")\n",
        "\n",
        "  try:\n",
        "    with open(\"kitaplar.txt\", \"r\", encoding=\"utf-8\") as dosya:\n",
        "      kitaplar = dosya.readlines()\n",
        "      if not kitaplar:\n",
        "        print(\"Henüz kitap eklenmemiş.\\n\")\n",
        "      else:\n",
        "       for satir in kitaplar:\n",
        "        print(satir.strip())\n",
        "        print(\"\\n\")\n",
        "\n",
        "  except FileNotFoundError:\n",
        "    print(\" Kitaplar dosyasında kayıt bulunamadı. Lütfen önce kitap ekleyin.\")\n",
        "    print(\"\\n\")\n",
        "\n",
        "\n",
        "# Menü oluşturma\n",
        "\n",
        "while True:\n",
        "  menu_ac()\n",
        "  secim = input(\"Kitaplık uygulamasına hoşgeldiniz. Lütfen yapmak istediğiniz işlemi seçiniz (1,2,3,4): \")\n",
        "  print(\"\\n\")\n",
        "\n",
        "  if secim == \"1\":\n",
        "    print(\"Kitap arama işlemi seçildi.\")\n",
        "    print(\"\\n\")\n",
        "    kitap_ara()\n",
        "\n",
        "\n",
        "  elif secim == \"2\":\n",
        "   print(\"Kitap ekleme işlemi seçildi.\")\n",
        "   print(\"\\n\")\n",
        "   kitap_ekle()\n",
        "\n",
        "\n",
        "  elif secim == \"3\":\n",
        "   print(\"Kitap listeleme işlemi seçildi.\")\n",
        "   print(\"\\n\")\n",
        "   kitap_listele()\n",
        "\n",
        "  elif secim == \"4\":\n",
        "   print(\"Çıkış işlemi seçildi. Program sonlandırılıyor...\")\n",
        "   break\n",
        "\n",
        "  else:\n",
        "   print(\"Geçersiz seçim yaptınız. Yapmak istediğiniz işleme göre 1-4 arasında bir sayı seçiniz.\" )\n",
        "   print(\"\\n\")\n",
        "\n"
      ]
    },
    {
      "cell_type": "code",
      "source": [
        "from google.colab import drive\n",
        "drive.mount('/content/drive')"
      ],
      "metadata": {
        "colab": {
          "base_uri": "https://localhost:8080/"
        },
        "id": "egL3AA-tW-qb",
        "outputId": "52a90632-b37e-4eb3-ede3-8c2d7b1a21e7"
      },
      "execution_count": null,
      "outputs": [
        {
          "output_type": "stream",
          "name": "stdout",
          "text": [
            "Mounted at /content/drive\n"
          ]
        }
      ]
    }
  ]
}